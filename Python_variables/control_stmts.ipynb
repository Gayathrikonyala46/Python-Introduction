{
 "cells": [
  {
   "cell_type": "markdown",
   "id": "7d4d2e09-dab2-4f02-9ad1-3af05949d031",
   "metadata": {},
   "source": [
    "### Control flow statements\n",
    "  1. Conditional statements\n",
    "  2. Loops"
   ]
  },
  {
   "cell_type": "markdown",
   "id": "c78c91e1-7319-42b9-a317-1f341465f7c2",
   "metadata": {},
   "source": [
    "#### Conditional statements\n",
    "* Conditional statements (if, else, and elif) are fundamental programming constructs that allow you to control the flow of your program based on conditions that you specify. They provide a way to make decisions in your program and execute different code based on those decisions."
   ]
  },
  {
   "cell_type": "markdown",
   "id": "206adf44-b45c-495f-8b38-05162aae4ded",
   "metadata": {},
   "source": [
    "**1. if statement**\n",
    "* The if statement executes if the condition is true"
   ]
  },
  {
   "cell_type": "code",
   "execution_count": 1,
   "id": "b7bf6092-ec26-4f58-bc3c-9e60291bea20",
   "metadata": {},
   "outputs": [
    {
     "name": "stdout",
     "output_type": "stream",
     "text": [
      "Hii\n"
     ]
    }
   ],
   "source": [
    "if (\"Hello\"):\n",
    "    print(\"Hii\")"
   ]
  },
  {
   "cell_type": "code",
   "execution_count": 3,
   "id": "adabc030-9cc3-4718-a055-624961f9b209",
   "metadata": {},
   "outputs": [],
   "source": [
    "if ():\n",
    "    print(\"Hello\")  # Nothing is printed because the condition is not true"
   ]
  },
  {
   "cell_type": "code",
   "execution_count": 4,
   "id": "200fd549-a377-41b0-becc-5aa296c1812a",
   "metadata": {},
   "outputs": [
    {
     "name": "stdout",
     "output_type": "stream",
     "text": [
      "x is lessthan 10\n",
      "hello\n"
     ]
    }
   ],
   "source": [
    "x=-11\n",
    "if x<10:\n",
    "    print('x is lessthan 10')\n",
    "print('hello')"
   ]
  },
  {
   "cell_type": "code",
   "execution_count": 7,
   "id": "f7938360-ce9b-488f-87ee-f031ad07a523",
   "metadata": {},
   "outputs": [
    {
     "name": "stdin",
     "output_type": "stream",
     "text": [
      "enter user name u4\n",
      "enter password p4\n"
     ]
    },
    {
     "name": "stdout",
     "output_type": "stream",
     "text": [
      "Welcome! access granted\n"
     ]
    }
   ],
   "source": [
    "user_name=input(\"enter user name\")\n",
    "password=input(\"enter password\")\n",
    "x={\"u1\":\"p1\",\n",
    "   \"u2\":\"p2\",\n",
    "   \"u3\":\"p3\",\n",
    "   \"u4\":\"p4\"}\n",
    "if (user_name,password) in list(x.items()):\n",
    "    print(\"Welcome! access granted\")\n",
    "    "
   ]
  },
  {
   "cell_type": "markdown",
   "id": "eba10efd-e801-45ff-adc2-02605c099f5c",
   "metadata": {},
   "source": [
    "**2. if-else**\n",
    "* if block will execute if the condition is true otherwise else block will execute"
   ]
  },
  {
   "cell_type": "code",
   "execution_count": 8,
   "id": "22058c75-ba06-4e7e-bd98-de1e8bc4518f",
   "metadata": {},
   "outputs": [
    {
     "name": "stdin",
     "output_type": "stream",
     "text": [
      "enter number 2\n"
     ]
    },
    {
     "name": "stdout",
     "output_type": "stream",
     "text": [
      "even\n"
     ]
    }
   ],
   "source": [
    "x=int(input('enter number'))\n",
    "if (x%2==0):\n",
    "    print('even')\n",
    "else:\n",
    "    print('odd')"
   ]
  },
  {
   "cell_type": "markdown",
   "id": "1c0e7b8b-8e0b-46ae-a865-80198f1aafc7",
   "metadata": {},
   "source": [
    "**3.if-elif**\n",
    "* The if-elif-else statement in Python is a conditional statement that allows you to execute different blocks of code depending on the value of a condition. It is similar to the if-else statement, but it allows you to check multiple conditions."
   ]
  },
  {
   "cell_type": "code",
   "execution_count": 9,
   "id": "6360ec8a-b615-4b9d-85d0-1ac4fdf79e3f",
   "metadata": {},
   "outputs": [
    {
     "name": "stdout",
     "output_type": "stream",
     "text": [
      "The number is positive\n"
     ]
    }
   ],
   "source": [
    "number = 10\n",
    "\n",
    "if number > 0:\n",
    "    print(\"The number is positive\")\n",
    "elif number == 0:\n",
    "    print(\"The number is 0\")\n",
    "else:\n",
    "    print(\"The number is negative\")"
   ]
  },
  {
   "cell_type": "markdown",
   "id": "464ed603-6b92-48fe-bc42-fb8e11863191",
   "metadata": {},
   "source": [
    "#### Loops"
   ]
  },
  {
   "cell_type": "markdown",
   "id": "84db7923-27dc-4cbf-99a4-761522905a3e",
   "metadata": {},
   "source": [
    "**1.for loop**\n",
    "* For loops are used to iterate over a sequence of objects, such as a list or a string."
   ]
  },
  {
   "cell_type": "code",
   "execution_count": 10,
   "id": "10859db9-d4df-48c1-ba3e-dba338370602",
   "metadata": {},
   "outputs": [
    {
     "name": "stdout",
     "output_type": "stream",
     "text": [
      "[1, 9, 8, 7, 6]\n"
     ]
    }
   ],
   "source": [
    "x=[1,9,8,8,7,6,1,6]\n",
    "y=[]\n",
    "for i in range(len(x)):\n",
    "  if x[i] not in y:\n",
    "    y.append(x[i])\n",
    "print(y)"
   ]
  },
  {
   "cell_type": "markdown",
   "id": "73179bf4-0ddb-45de-964d-43fd878fcd3e",
   "metadata": {},
   "source": [
    "**2.while loop**\n",
    "* While loops are used to iterate until a condition is met. "
   ]
  },
  {
   "cell_type": "code",
   "execution_count": 12,
   "id": "978b9f1a-8967-4a61-9a17-d2910d4934dc",
   "metadata": {},
   "outputs": [
    {
     "name": "stdout",
     "output_type": "stream",
     "text": [
      "True\n",
      "True\n",
      "True\n",
      "True\n",
      "False\n"
     ]
    }
   ],
   "source": [
    "x=5\n",
    "y=10\n",
    "while x<y:\n",
    "  x+=1\n",
    "  print(x<y)"
   ]
  },
  {
   "cell_type": "code",
   "execution_count": null,
   "id": "d6fb0d01-1ef4-44ca-8a6a-388b3d1d2767",
   "metadata": {},
   "outputs": [],
   "source": []
  }
 ],
 "metadata": {
  "kernelspec": {
   "display_name": "Python 3 (ipykernel)",
   "language": "python",
   "name": "python3"
  },
  "language_info": {
   "codemirror_mode": {
    "name": "ipython",
    "version": 3
   },
   "file_extension": ".py",
   "mimetype": "text/x-python",
   "name": "python",
   "nbconvert_exporter": "python",
   "pygments_lexer": "ipython3",
   "version": "3.13.5"
  }
 },
 "nbformat": 4,
 "nbformat_minor": 5
}
