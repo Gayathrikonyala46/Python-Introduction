{
 "cells": [
  {
   "cell_type": "markdown",
   "id": "034e97f4-9809-4348-9315-4c6869e64cdd",
   "metadata": {},
   "source": [
    "### Set Datatype\n",
    "* A set is a collection of unique and unordered data type in python. It is mutable, meaning the elements of the set can be changed after it has been created. Sets are written with curly brackets.\n",
    "* Any immutable data type can be an element of a set (e.g. strings and integers).\n",
    "* **Here are some of the key features of sets in Python:**\n",
    "* `Unordered:` The elements of a set do not have any defined order.\n",
    "* `Unique:` The elements of a set must be unique. If you try to add a duplicate element to a set, it will be ignored.\n",
    "* `Unindexed:` The elements of a set cannot be accessed using indexes.\n",
    "* `Mutable:` The elements of a set can be changed after the set has been created."
   ]
  },
  {
   "cell_type": "code",
   "execution_count": 1,
   "id": "04e809b4-0e0f-45f4-ab69-315696a84d6a",
   "metadata": {},
   "outputs": [
    {
     "data": {
      "text/plain": [
       "({1, 2, 3, 4}, set)"
      ]
     },
     "execution_count": 1,
     "metadata": {},
     "output_type": "execute_result"
    }
   ],
   "source": [
    "# Example\n",
    "x={1,2,3,4}\n",
    "x,type(x)"
   ]
  },
  {
   "cell_type": "code",
   "execution_count": 5,
   "id": "2de0da2e-67a5-4c18-af8f-530391e83506",
   "metadata": {},
   "outputs": [
    {
     "data": {
      "text/plain": [
       "{1, 2, 3, 'Malayalam'}"
      ]
     },
     "execution_count": 5,
     "metadata": {},
     "output_type": "execute_result"
    }
   ],
   "source": [
    "# Example\n",
    "x={1,2,3,\"Malayalam\"}\n",
    "x"
   ]
  },
  {
   "cell_type": "code",
   "execution_count": 4,
   "id": "9de07fd1-0c19-49dd-9598-bb0f71f6f562",
   "metadata": {},
   "outputs": [],
   "source": [
    "# Error ----> list cannot be a element of set because it is mutable\n",
    "#x={1,2,3,[1,2,3]}\n",
    "#x"
   ]
  },
  {
   "cell_type": "markdown",
   "id": "3183d542-cc32-4b6b-ae4f-366b3529069c",
   "metadata": {},
   "source": [
    "#### Methods of set data type"
   ]
  },
  {
   "cell_type": "code",
   "execution_count": 6,
   "id": "09f0af24-467b-497f-acb2-dd7bd3ffee62",
   "metadata": {},
   "outputs": [
    {
     "data": {
      "text/plain": [
       "['__and__',\n",
       " '__class__',\n",
       " '__class_getitem__',\n",
       " '__contains__',\n",
       " '__delattr__',\n",
       " '__dir__',\n",
       " '__doc__',\n",
       " '__eq__',\n",
       " '__format__',\n",
       " '__ge__',\n",
       " '__getattribute__',\n",
       " '__getstate__',\n",
       " '__gt__',\n",
       " '__hash__',\n",
       " '__iand__',\n",
       " '__init__',\n",
       " '__init_subclass__',\n",
       " '__ior__',\n",
       " '__isub__',\n",
       " '__iter__',\n",
       " '__ixor__',\n",
       " '__le__',\n",
       " '__len__',\n",
       " '__lt__',\n",
       " '__ne__',\n",
       " '__new__',\n",
       " '__or__',\n",
       " '__rand__',\n",
       " '__reduce__',\n",
       " '__reduce_ex__',\n",
       " '__repr__',\n",
       " '__ror__',\n",
       " '__rsub__',\n",
       " '__rxor__',\n",
       " '__setattr__',\n",
       " '__sizeof__',\n",
       " '__str__',\n",
       " '__sub__',\n",
       " '__subclasshook__',\n",
       " '__xor__',\n",
       " 'add',\n",
       " 'clear',\n",
       " 'copy',\n",
       " 'difference',\n",
       " 'difference_update',\n",
       " 'discard',\n",
       " 'intersection',\n",
       " 'intersection_update',\n",
       " 'isdisjoint',\n",
       " 'issubset',\n",
       " 'issuperset',\n",
       " 'pop',\n",
       " 'remove',\n",
       " 'symmetric_difference',\n",
       " 'symmetric_difference_update',\n",
       " 'union',\n",
       " 'update']"
      ]
     },
     "execution_count": 6,
     "metadata": {},
     "output_type": "execute_result"
    }
   ],
   "source": [
    "dir(set)"
   ]
  },
  {
   "cell_type": "code",
   "execution_count": 7,
   "id": "837edcd5-9739-4cc1-9b21-3bf8ddeb1f91",
   "metadata": {},
   "outputs": [
    {
     "name": "stdout",
     "output_type": "stream",
     "text": [
      "Help on method_descriptor:\n",
      "\n",
      "add(self, object, /) unbound builtins.set method\n",
      "    Add an element to a set.\n",
      "\n",
      "    This has no effect if the element is already present.\n",
      "\n"
     ]
    }
   ],
   "source": [
    "# add()\n",
    "help(set.add)"
   ]
  },
  {
   "cell_type": "code",
   "execution_count": 8,
   "id": "35589ebf-616b-430f-997a-eeaaa4eb615f",
   "metadata": {},
   "outputs": [
    {
     "data": {
      "text/plain": [
       "{1, 2, 3, 4, 5}"
      ]
     },
     "execution_count": 8,
     "metadata": {},
     "output_type": "execute_result"
    }
   ],
   "source": [
    "x={1,2,3,4}\n",
    "x.add(5)\n",
    "x"
   ]
  },
  {
   "cell_type": "code",
   "execution_count": 9,
   "id": "53f8d026-fd37-45c1-9b96-4e31202f7c55",
   "metadata": {},
   "outputs": [
    {
     "name": "stdout",
     "output_type": "stream",
     "text": [
      "Help on method_descriptor:\n",
      "\n",
      "clear(self, /) unbound builtins.set method\n",
      "    Remove all elements from this set.\n",
      "\n"
     ]
    }
   ],
   "source": [
    "# clear()\n",
    "help(set.clear)"
   ]
  },
  {
   "cell_type": "code",
   "execution_count": 10,
   "id": "a7dd605e-17ef-4c4d-903a-3bcb07841b78",
   "metadata": {},
   "outputs": [
    {
     "data": {
      "text/plain": [
       "set()"
      ]
     },
     "execution_count": 10,
     "metadata": {},
     "output_type": "execute_result"
    }
   ],
   "source": [
    "x={1,2,3}\n",
    "x.clear()\n",
    "x"
   ]
  },
  {
   "cell_type": "code",
   "execution_count": 11,
   "id": "6cb97ff2-0996-4969-9e9d-7184a0dc6fa6",
   "metadata": {},
   "outputs": [
    {
     "name": "stdout",
     "output_type": "stream",
     "text": [
      "Help on method_descriptor:\n",
      "\n",
      "copy(self, /) unbound builtins.set method\n",
      "    Return a shallow copy of a set.\n",
      "\n"
     ]
    }
   ],
   "source": [
    "# copy()\n",
    "help(set.copy)"
   ]
  },
  {
   "cell_type": "code",
   "execution_count": 12,
   "id": "9ef9ab28-9bec-4f3e-8d7e-be8d8f12bc93",
   "metadata": {},
   "outputs": [
    {
     "data": {
      "text/plain": [
       "({5, 6, 7, 8}, {5, 6, 7, 8})"
      ]
     },
     "execution_count": 12,
     "metadata": {},
     "output_type": "execute_result"
    }
   ],
   "source": [
    "x={5,6,7,8}\n",
    "y=x.copy()\n",
    "x,y"
   ]
  },
  {
   "cell_type": "code",
   "execution_count": 13,
   "id": "da45b39c-850a-4686-b642-325db7e75fde",
   "metadata": {},
   "outputs": [
    {
     "data": {
      "text/plain": [
       "({2, 5, 6, 7, 8}, {5, 6, 7, 8})"
      ]
     },
     "execution_count": 13,
     "metadata": {},
     "output_type": "execute_result"
    }
   ],
   "source": [
    "x.add(2)\n",
    "x,y"
   ]
  },
  {
   "cell_type": "code",
   "execution_count": 14,
   "id": "4c5a7d20-c8ad-40ce-af54-b918d28bc346",
   "metadata": {},
   "outputs": [
    {
     "name": "stdout",
     "output_type": "stream",
     "text": [
      "Help on method_descriptor:\n",
      "\n",
      "difference(self, /, *others) unbound builtins.set method\n",
      "    Return a new set with elements in the set that are not in the others.\n",
      "\n"
     ]
    }
   ],
   "source": [
    "# difference()\n",
    "help(set.difference)"
   ]
  },
  {
   "cell_type": "code",
   "execution_count": 16,
   "id": "16686748-79d8-4615-a12f-1f8dc9e9cc10",
   "metadata": {},
   "outputs": [
    {
     "data": {
      "text/plain": [
       "{1, 2}"
      ]
     },
     "execution_count": 16,
     "metadata": {},
     "output_type": "execute_result"
    }
   ],
   "source": [
    "a={1,2,3}\n",
    "b={3,4,5}\n",
    "a.difference(b)\n"
   ]
  },
  {
   "cell_type": "code",
   "execution_count": 17,
   "id": "a9c6a900-a392-439c-8889-9aab1ef5de90",
   "metadata": {},
   "outputs": [
    {
     "data": {
      "text/plain": [
       "{4, 5}"
      ]
     },
     "execution_count": 17,
     "metadata": {},
     "output_type": "execute_result"
    }
   ],
   "source": [
    "a={1,2,3}\n",
    "b={3,4,5}\n",
    "b.difference(a)"
   ]
  },
  {
   "cell_type": "code",
   "execution_count": 21,
   "id": "7c6e53a1-9036-4d93-9b67-e46b4a880ef7",
   "metadata": {},
   "outputs": [
    {
     "data": {
      "text/plain": [
       "{1, 2}"
      ]
     },
     "execution_count": 21,
     "metadata": {},
     "output_type": "execute_result"
    }
   ],
   "source": [
    "# difference_update()\n",
    "a={1,2,3,4}\n",
    "b={3,4,5,6}\n",
    "a.difference_update(b)\n",
    "a"
   ]
  },
  {
   "cell_type": "code",
   "execution_count": 22,
   "id": "a53f2c0a-c93a-449d-9a99-448fd137ea33",
   "metadata": {},
   "outputs": [
    {
     "data": {
      "text/plain": [
       "{5, 6}"
      ]
     },
     "execution_count": 22,
     "metadata": {},
     "output_type": "execute_result"
    }
   ],
   "source": [
    "a={1,2,3,4}\n",
    "b={3,4,5,6}\n",
    "b.difference_update(a)\n",
    "b"
   ]
  },
  {
   "cell_type": "code",
   "execution_count": 23,
   "id": "3e6990e4-5b87-469d-a3b9-5941f7e8eae2",
   "metadata": {},
   "outputs": [
    {
     "name": "stdout",
     "output_type": "stream",
     "text": [
      "Help on method_descriptor:\n",
      "\n",
      "discard(self, object, /) unbound builtins.set method\n",
      "    Remove an element from a set if it is a member.\n",
      "\n",
      "    Unlike set.remove(), the discard() method does not raise\n",
      "    an exception when an element is missing from the set.\n",
      "\n"
     ]
    }
   ],
   "source": [
    "# discard()\n",
    "help(set.discard)"
   ]
  },
  {
   "cell_type": "code",
   "execution_count": 25,
   "id": "e2a96cbb-2d80-48a2-869a-d50a6952a312",
   "metadata": {},
   "outputs": [
    {
     "data": {
      "text/plain": [
       "{1, 2, 3, 4}"
      ]
     },
     "execution_count": 25,
     "metadata": {},
     "output_type": "execute_result"
    }
   ],
   "source": [
    "a={1,2,3,4,5}\n",
    "a.discard(5)\n",
    "a"
   ]
  },
  {
   "cell_type": "code",
   "execution_count": 27,
   "id": "8487f440-7257-463f-8504-db5a70110acf",
   "metadata": {},
   "outputs": [
    {
     "data": {
      "text/plain": [
       "{1, 2, 3, 4}"
      ]
     },
     "execution_count": 27,
     "metadata": {},
     "output_type": "execute_result"
    }
   ],
   "source": [
    "a.discard(6)  # it will not throw any error if the given element is not in the set\n",
    "a"
   ]
  },
  {
   "cell_type": "code",
   "execution_count": 28,
   "id": "562f4c87-2cdf-42ba-9e2c-17cad79df090",
   "metadata": {},
   "outputs": [
    {
     "name": "stdout",
     "output_type": "stream",
     "text": [
      "Help on method_descriptor:\n",
      "\n",
      "intersection(self, /, *others) unbound builtins.set method\n",
      "    Return a new set with elements common to the set and all others.\n",
      "\n"
     ]
    }
   ],
   "source": [
    "# intersection()\n",
    "help(set.intersection)"
   ]
  },
  {
   "cell_type": "code",
   "execution_count": 29,
   "id": "444b45f2-d0ae-48c1-b459-85883fff6da9",
   "metadata": {},
   "outputs": [
    {
     "data": {
      "text/plain": [
       "{3, 4, 5}"
      ]
     },
     "execution_count": 29,
     "metadata": {},
     "output_type": "execute_result"
    }
   ],
   "source": [
    "a={1,2,3,4,5}\n",
    "b={3,4,5,6,7}\n",
    "a.intersection(b)"
   ]
  },
  {
   "cell_type": "code",
   "execution_count": 30,
   "id": "6adf77f5-5a07-4c3f-88a7-f7b35c669747",
   "metadata": {},
   "outputs": [
    {
     "name": "stdout",
     "output_type": "stream",
     "text": [
      "Help on method_descriptor:\n",
      "\n",
      "intersection_update(self, /, *others) unbound builtins.set method\n",
      "    Update the set, keeping only elements found in it and all others.\n",
      "\n"
     ]
    }
   ],
   "source": [
    "# intersection_update()\n",
    "help(set.intersection_update)"
   ]
  },
  {
   "cell_type": "code",
   "execution_count": 33,
   "id": "4290046a-54da-4a11-a46d-6247268511fe",
   "metadata": {},
   "outputs": [
    {
     "data": {
      "text/plain": [
       "({3, 4, 5}, {3, 4, 5, 6, 78})"
      ]
     },
     "execution_count": 33,
     "metadata": {},
     "output_type": "execute_result"
    }
   ],
   "source": [
    "a={1,2,3,4,5}\n",
    "b={3,4,5,6,78}\n",
    "a.intersection_update(b)\n",
    "a,b"
   ]
  },
  {
   "cell_type": "code",
   "execution_count": 34,
   "id": "74ad22d8-64bc-484d-a7df-3e96cc946a87",
   "metadata": {},
   "outputs": [
    {
     "data": {
      "text/plain": [
       "({1, 2, 3, 4, 5}, {3, 4, 5})"
      ]
     },
     "execution_count": 34,
     "metadata": {},
     "output_type": "execute_result"
    }
   ],
   "source": [
    "a={1,2,3,4,5}\n",
    "b={3,4,5,6,78}\n",
    "b.intersection_update(a)\n",
    "a,b"
   ]
  },
  {
   "cell_type": "code",
   "execution_count": 35,
   "id": "22abdd41-2831-4516-842a-51fbc6f214c4",
   "metadata": {},
   "outputs": [
    {
     "name": "stdout",
     "output_type": "stream",
     "text": [
      "Help on method_descriptor:\n",
      "\n",
      "isdisjoint(self, other, /) unbound builtins.set method\n",
      "    Return True if two sets have a null intersection.\n",
      "\n"
     ]
    }
   ],
   "source": [
    "# isdisjoint()\n",
    "help(set.isdisjoint)"
   ]
  },
  {
   "cell_type": "code",
   "execution_count": 37,
   "id": "f3c25ecd-3860-4a95-ac4e-6a90ec2703b3",
   "metadata": {},
   "outputs": [
    {
     "data": {
      "text/plain": [
       "False"
      ]
     },
     "execution_count": 37,
     "metadata": {},
     "output_type": "execute_result"
    }
   ],
   "source": [
    "a={1,2,3,4}\n",
    "b={3,4,5,6}\n",
    "a.isdisjoint(b)"
   ]
  },
  {
   "cell_type": "code",
   "execution_count": 38,
   "id": "17f4ccb5-3110-45a2-83b3-17926bb68c75",
   "metadata": {},
   "outputs": [
    {
     "data": {
      "text/plain": [
       "True"
      ]
     },
     "execution_count": 38,
     "metadata": {},
     "output_type": "execute_result"
    }
   ],
   "source": [
    "a={1,2,3,4}\n",
    "b={8,7,5,6}\n",
    "a.isdisjoint(b)"
   ]
  },
  {
   "cell_type": "code",
   "execution_count": 39,
   "id": "084114e6-85c7-42bc-9ddc-70788271df4f",
   "metadata": {},
   "outputs": [
    {
     "name": "stdout",
     "output_type": "stream",
     "text": [
      "Help on method_descriptor:\n",
      "\n",
      "issubset(self, other, /) unbound builtins.set method\n",
      "    Report whether another set contains this set.\n",
      "\n"
     ]
    }
   ],
   "source": [
    "# issubset()\n",
    "help(set.issubset)"
   ]
  },
  {
   "cell_type": "code",
   "execution_count": 40,
   "id": "378b1662-00a4-418c-852b-cd04c082de5c",
   "metadata": {},
   "outputs": [
    {
     "data": {
      "text/plain": [
       "False"
      ]
     },
     "execution_count": 40,
     "metadata": {},
     "output_type": "execute_result"
    }
   ],
   "source": [
    "a={1,2,3,4,5}\n",
    "b={3,4,5}\n",
    "a.issubset(b)"
   ]
  },
  {
   "cell_type": "code",
   "execution_count": 41,
   "id": "2a1d0d7d-fecc-462d-be16-47be1e736bfb",
   "metadata": {},
   "outputs": [
    {
     "data": {
      "text/plain": [
       "True"
      ]
     },
     "execution_count": 41,
     "metadata": {},
     "output_type": "execute_result"
    }
   ],
   "source": [
    "a={1,2,3,4,5}\n",
    "b={3,4,5}\n",
    "b.issubset(a)"
   ]
  },
  {
   "cell_type": "code",
   "execution_count": 42,
   "id": "0a532b6b-27e7-4e25-92a8-fec71a98a773",
   "metadata": {},
   "outputs": [
    {
     "name": "stdout",
     "output_type": "stream",
     "text": [
      "Help on method_descriptor:\n",
      "\n",
      "issuperset(self, other, /) unbound builtins.set method\n",
      "    Report whether this set contains another set.\n",
      "\n"
     ]
    }
   ],
   "source": [
    "# issuperset()\n",
    "help(set.issuperset)"
   ]
  },
  {
   "cell_type": "code",
   "execution_count": 43,
   "id": "d26dc39b-292c-4e5c-aa25-19dd7d0638d0",
   "metadata": {},
   "outputs": [
    {
     "data": {
      "text/plain": [
       "True"
      ]
     },
     "execution_count": 43,
     "metadata": {},
     "output_type": "execute_result"
    }
   ],
   "source": [
    "a={1,2,3,4,5}\n",
    "b={3,4,5}\n",
    "a.issuperset(b)"
   ]
  },
  {
   "cell_type": "code",
   "execution_count": 44,
   "id": "5fd43e7e-bb0b-40bb-af79-c184fd757c75",
   "metadata": {},
   "outputs": [
    {
     "data": {
      "text/plain": [
       "False"
      ]
     },
     "execution_count": 44,
     "metadata": {},
     "output_type": "execute_result"
    }
   ],
   "source": [
    "a={1,2,3,4,5}\n",
    "b={3,4,5}\n",
    "b.issuperset(a)"
   ]
  },
  {
   "cell_type": "code",
   "execution_count": 45,
   "id": "014dbc08-21d5-4c39-89c3-9d78cfe5e7ad",
   "metadata": {},
   "outputs": [
    {
     "name": "stdout",
     "output_type": "stream",
     "text": [
      "Help on method_descriptor:\n",
      "\n",
      "pop(self, /) unbound builtins.set method\n",
      "    Remove and return an arbitrary set element.\n",
      "\n",
      "    Raises KeyError if the set is empty.\n",
      "\n"
     ]
    }
   ],
   "source": [
    "# pop()\n",
    "help(set.pop)"
   ]
  },
  {
   "cell_type": "code",
   "execution_count": 47,
   "id": "475967ae-9bcd-460d-ad84-8525d5416e4d",
   "metadata": {},
   "outputs": [
    {
     "data": {
      "text/plain": [
       "1"
      ]
     },
     "execution_count": 47,
     "metadata": {},
     "output_type": "execute_result"
    }
   ],
   "source": [
    "x={1,2,3,4,5}\n",
    "x.pop()"
   ]
  },
  {
   "cell_type": "code",
   "execution_count": 49,
   "id": "649e78fd-9d6f-44a7-98b2-ec2c54bc4477",
   "metadata": {},
   "outputs": [],
   "source": [
    "# error is set is empty\n",
    "#x={}\n",
    "#x.pop()"
   ]
  },
  {
   "cell_type": "code",
   "execution_count": 46,
   "id": "7c014704-af6c-4d6b-af23-06746c7cd3f4",
   "metadata": {},
   "outputs": [
    {
     "name": "stdout",
     "output_type": "stream",
     "text": [
      "Help on method_descriptor:\n",
      "\n",
      "remove(self, object, /) unbound builtins.set method\n",
      "    Remove an element from a set; it must be a member.\n",
      "\n",
      "    If the element is not a member, raise a KeyError.\n",
      "\n"
     ]
    }
   ],
   "source": [
    "# remove()\n",
    "help(set.remove)"
   ]
  },
  {
   "cell_type": "code",
   "execution_count": 50,
   "id": "392cbfb7-e264-4d28-b840-5821e5cf982f",
   "metadata": {},
   "outputs": [
    {
     "data": {
      "text/plain": [
       "{1, 2, 3, 4, 6, 9}"
      ]
     },
     "execution_count": 50,
     "metadata": {},
     "output_type": "execute_result"
    }
   ],
   "source": [
    "x={1,2,3,4,5,6,9}\n",
    "x.remove(5)\n",
    "x"
   ]
  },
  {
   "cell_type": "code",
   "execution_count": 52,
   "id": "2d435ffa-da7c-4019-bbc9-756d0c9b8efb",
   "metadata": {},
   "outputs": [],
   "source": [
    "# Error if element is not present\n",
    "#x={1,2,3,4,5,6,9}\n",
    "#x.remove(8)\n",
    "#x"
   ]
  },
  {
   "cell_type": "code",
   "execution_count": 53,
   "id": "fd152efc-ceee-4f43-ad4c-818c8a705e98",
   "metadata": {},
   "outputs": [
    {
     "name": "stdout",
     "output_type": "stream",
     "text": [
      "Help on method_descriptor:\n",
      "\n",
      "symmetric_difference(self, other, /) unbound builtins.set method\n",
      "    Return a new set with elements in either the set or other but not both.\n",
      "\n"
     ]
    }
   ],
   "source": [
    "# symmetric_difference()\n",
    "help(set.symmetric_difference)"
   ]
  },
  {
   "cell_type": "code",
   "execution_count": 54,
   "id": "159ecef4-0677-4f7e-a7a7-0e79d890554b",
   "metadata": {},
   "outputs": [
    {
     "data": {
      "text/plain": [
       "{1, 2, 5, 6}"
      ]
     },
     "execution_count": 54,
     "metadata": {},
     "output_type": "execute_result"
    }
   ],
   "source": [
    "x={1,2,3,4}\n",
    "y={3,4,5,6}\n",
    "x.symmetric_difference(y)"
   ]
  },
  {
   "cell_type": "code",
   "execution_count": 55,
   "id": "2f6a1e60-c5ac-43dd-8cba-d111179cb8e2",
   "metadata": {},
   "outputs": [
    {
     "name": "stdout",
     "output_type": "stream",
     "text": [
      "Help on method_descriptor:\n",
      "\n",
      "symmetric_difference_update(self, other, /) unbound builtins.set method\n",
      "    Update the set, keeping only elements found in either set, but not in both.\n",
      "\n"
     ]
    }
   ],
   "source": [
    "# symmetric_difference_update()\n",
    "help(set.symmetric_difference_update)"
   ]
  },
  {
   "cell_type": "code",
   "execution_count": 56,
   "id": "5a14e9d0-74ba-4bb0-889d-70508c8f5d18",
   "metadata": {},
   "outputs": [
    {
     "data": {
      "text/plain": [
       "({1, 2, 5, 6}, {3, 4, 5, 6})"
      ]
     },
     "execution_count": 56,
     "metadata": {},
     "output_type": "execute_result"
    }
   ],
   "source": [
    "x={1,2,3,4}\n",
    "y={3,4,5,6}\n",
    "x.symmetric_difference_update(y)\n",
    "x,y"
   ]
  },
  {
   "cell_type": "code",
   "execution_count": 57,
   "id": "ec2f3d53-a93c-4c86-903f-a5efb2060b57",
   "metadata": {},
   "outputs": [
    {
     "data": {
      "text/plain": [
       "({1, 2, 3, 4}, {1, 2, 5, 6})"
      ]
     },
     "execution_count": 57,
     "metadata": {},
     "output_type": "execute_result"
    }
   ],
   "source": [
    "x={1,2,3,4}\n",
    "y={3,4,5,6}\n",
    "y.symmetric_difference_update(x)\n",
    "x,y"
   ]
  },
  {
   "cell_type": "code",
   "execution_count": 58,
   "id": "75d02696-d2ea-4dfb-8ae6-d5e9444906c8",
   "metadata": {},
   "outputs": [
    {
     "name": "stdout",
     "output_type": "stream",
     "text": [
      "Help on method_descriptor:\n",
      "\n",
      "union(self, /, *others) unbound builtins.set method\n",
      "    Return a new set with elements from the set and all others.\n",
      "\n"
     ]
    }
   ],
   "source": [
    "# union()\n",
    "help(set.union)"
   ]
  },
  {
   "cell_type": "code",
   "execution_count": 59,
   "id": "bb30a6ab-fc2f-420a-ab5b-20b68ba033b8",
   "metadata": {},
   "outputs": [
    {
     "data": {
      "text/plain": [
       "{1, 2, 3, 4, 5, 6}"
      ]
     },
     "execution_count": 59,
     "metadata": {},
     "output_type": "execute_result"
    }
   ],
   "source": [
    "x={1,2,3,4}\n",
    "y={3,4,5,6}\n",
    "x.union(y)\n"
   ]
  },
  {
   "cell_type": "code",
   "execution_count": 60,
   "id": "5beecfae-fa5b-4858-9e6b-27fce41c96e2",
   "metadata": {},
   "outputs": [
    {
     "name": "stdout",
     "output_type": "stream",
     "text": [
      "Help on method_descriptor:\n",
      "\n",
      "update(self, /, *others) unbound builtins.set method\n",
      "    Update the set, adding elements from all others.\n",
      "\n"
     ]
    }
   ],
   "source": [
    "# update()\n",
    "help(set.update)"
   ]
  },
  {
   "cell_type": "code",
   "execution_count": 61,
   "id": "aa966b86-b82b-43c8-b97a-d1c813702e92",
   "metadata": {},
   "outputs": [
    {
     "data": {
      "text/plain": [
       "{1, 2, 3, 4, 5, 6}"
      ]
     },
     "execution_count": 61,
     "metadata": {},
     "output_type": "execute_result"
    }
   ],
   "source": [
    "x={1,2,3,4}\n",
    "y={3,4,5,6}\n",
    "x.update(y)\n",
    "x"
   ]
  },
  {
   "cell_type": "code",
   "execution_count": null,
   "id": "7681d4fd-2356-4779-bc90-411f79cace93",
   "metadata": {},
   "outputs": [],
   "source": []
  },
  {
   "cell_type": "code",
   "execution_count": null,
   "id": "a525e75b-5e43-452d-8c31-0c6633e30b19",
   "metadata": {},
   "outputs": [],
   "source": []
  }
 ],
 "metadata": {
  "kernelspec": {
   "display_name": "Python 3 (ipykernel)",
   "language": "python",
   "name": "python3"
  },
  "language_info": {
   "codemirror_mode": {
    "name": "ipython",
    "version": 3
   },
   "file_extension": ".py",
   "mimetype": "text/x-python",
   "name": "python",
   "nbconvert_exporter": "python",
   "pygments_lexer": "ipython3",
   "version": "3.13.5"
  }
 },
 "nbformat": 4,
 "nbformat_minor": 5
}
