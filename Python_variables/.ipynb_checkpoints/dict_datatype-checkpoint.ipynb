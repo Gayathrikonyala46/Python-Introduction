{
 "cells": [
  {
   "cell_type": "markdown",
   "id": "2ac4efe2-d4f5-42ff-9c2b-2c64ee7bd2fe",
   "metadata": {},
   "source": [
    "### Dictionary Datatype\n",
    "* A dictionary is a kind of data structure that stores items in key-value pairs. A key is a unique identifier(no duplicate keys) for an item, and a value is the data associated with that key.\n",
    "* Immutable datatypes can be used as keys . For example integers , strings and tuple but we don't use tuple\n",
    "* no indexing in dictionary\n",
    "* Using key we can access corresponding key value\n",
    "* Hashable means immutable datatypes\n",
    "* Dictionaries are ordered"
   ]
  },
  {
   "cell_type": "code",
   "execution_count": 1,
   "id": "6a78e28c-be1c-4602-915e-12a2bbdd1c2c",
   "metadata": {},
   "outputs": [
    {
     "data": {
      "text/plain": [
       "{5: 6, 'b': 'c'}"
      ]
     },
     "execution_count": 1,
     "metadata": {},
     "output_type": "execute_result"
    }
   ],
   "source": [
    "# Example\n",
    "x=dict(((5,6),(\"b\",\"c\")))\n",
    "x"
   ]
  },
  {
   "cell_type": "markdown",
   "id": "25703678-2f56-413f-8fef-953108b4101f",
   "metadata": {},
   "source": [
    "#### Methods of dict datatype"
   ]
  },
  {
   "cell_type": "code",
   "execution_count": 2,
   "id": "7ec9c472-85ba-4eeb-975a-aa0af592bd00",
   "metadata": {},
   "outputs": [
    {
     "data": {
      "text/plain": [
       "['__class__',\n",
       " '__class_getitem__',\n",
       " '__contains__',\n",
       " '__delattr__',\n",
       " '__delitem__',\n",
       " '__dir__',\n",
       " '__doc__',\n",
       " '__eq__',\n",
       " '__format__',\n",
       " '__ge__',\n",
       " '__getattribute__',\n",
       " '__getitem__',\n",
       " '__getstate__',\n",
       " '__gt__',\n",
       " '__hash__',\n",
       " '__init__',\n",
       " '__init_subclass__',\n",
       " '__ior__',\n",
       " '__iter__',\n",
       " '__le__',\n",
       " '__len__',\n",
       " '__lt__',\n",
       " '__ne__',\n",
       " '__new__',\n",
       " '__or__',\n",
       " '__reduce__',\n",
       " '__reduce_ex__',\n",
       " '__repr__',\n",
       " '__reversed__',\n",
       " '__ror__',\n",
       " '__setattr__',\n",
       " '__setitem__',\n",
       " '__sizeof__',\n",
       " '__str__',\n",
       " '__subclasshook__',\n",
       " 'clear',\n",
       " 'copy',\n",
       " 'fromkeys',\n",
       " 'get',\n",
       " 'items',\n",
       " 'keys',\n",
       " 'pop',\n",
       " 'popitem',\n",
       " 'setdefault',\n",
       " 'update',\n",
       " 'values']"
      ]
     },
     "execution_count": 2,
     "metadata": {},
     "output_type": "execute_result"
    }
   ],
   "source": [
    "dir(dict)"
   ]
  },
  {
   "cell_type": "code",
   "execution_count": 3,
   "id": "8ba1a2c1-f71d-4689-8e1a-8a1440bc7006",
   "metadata": {},
   "outputs": [
    {
     "name": "stdout",
     "output_type": "stream",
     "text": [
      "Help on method_descriptor:\n",
      "\n",
      "clear(self, /) unbound builtins.dict method\n",
      "    Remove all items from the dict.\n",
      "\n"
     ]
    }
   ],
   "source": [
    "# Clear()\n",
    "help(dict.clear)"
   ]
  },
  {
   "cell_type": "code",
   "execution_count": 5,
   "id": "76294a89-7653-4dd8-a384-a04ce2556567",
   "metadata": {},
   "outputs": [
    {
     "data": {
      "text/plain": [
       "{}"
      ]
     },
     "execution_count": 5,
     "metadata": {},
     "output_type": "execute_result"
    }
   ],
   "source": [
    "a={\"Name\":\"John\",\n",
    "   \"course\":\"Data Science\"\n",
    "  }\n",
    "a.clear()\n",
    "a"
   ]
  },
  {
   "cell_type": "code",
   "execution_count": 6,
   "id": "04170be9-0130-455e-8323-7e067fb959e3",
   "metadata": {},
   "outputs": [
    {
     "name": "stdout",
     "output_type": "stream",
     "text": [
      "Help on method_descriptor:\n",
      "\n",
      "copy(self, /) unbound builtins.dict method\n",
      "    Return a shallow copy of the dict.\n",
      "\n"
     ]
    }
   ],
   "source": [
    "# copy()\n",
    "help(dict.copy)"
   ]
  },
  {
   "cell_type": "code",
   "execution_count": 7,
   "id": "0cee1097-0e30-4062-a956-00caffc0c48e",
   "metadata": {},
   "outputs": [
    {
     "data": {
      "text/plain": [
       "({'Name': 'John', 'course': 'Data Science'},\n",
       " {'Name': 'John', 'course': 'Data Science'})"
      ]
     },
     "execution_count": 7,
     "metadata": {},
     "output_type": "execute_result"
    }
   ],
   "source": [
    "a={\"Name\":\"John\",\n",
    "   \"course\":\"Data Science\"\n",
    "  }\n",
    "b=a.copy()\n",
    "a,b"
   ]
  },
  {
   "cell_type": "code",
   "execution_count": 8,
   "id": "57f9e7ca-4b84-4de8-b704-98fcfd6135bd",
   "metadata": {},
   "outputs": [
    {
     "name": "stdout",
     "output_type": "stream",
     "text": [
      "Help on built-in function fromkeys:\n",
      "\n",
      "fromkeys(iterable, value=None, /) class method of builtins.dict\n",
      "    Create a new dictionary with keys from iterable and values set to value.\n",
      "\n"
     ]
    }
   ],
   "source": [
    "# fromkeys()\n",
    "help(dict.fromkeys)"
   ]
  },
  {
   "cell_type": "code",
   "execution_count": 9,
   "id": "f390a603-70cc-45e4-8478-846804810460",
   "metadata": {},
   "outputs": [
    {
     "data": {
      "text/plain": [
       "{'Name': None, 'course': None}"
      ]
     },
     "execution_count": 9,
     "metadata": {},
     "output_type": "execute_result"
    }
   ],
   "source": [
    "a={\"Name\":\"John\",\n",
    "   \"course\":\"Data Science\"\n",
    "  }\n",
    "c=dict.fromkeys(a)\n",
    "c"
   ]
  },
  {
   "cell_type": "code",
   "execution_count": 10,
   "id": "840083eb-286d-4126-8bf0-7d2118872279",
   "metadata": {},
   "outputs": [
    {
     "name": "stdout",
     "output_type": "stream",
     "text": [
      "Help on method_descriptor:\n",
      "\n",
      "get(self, key, default=None, /) unbound builtins.dict method\n",
      "    Return the value for key if key is in the dictionary, else default.\n",
      "\n"
     ]
    }
   ],
   "source": [
    "# get()\n",
    "help(dict.get)"
   ]
  },
  {
   "cell_type": "code",
   "execution_count": 11,
   "id": "9984407b-8348-4d08-8f66-6741da236e14",
   "metadata": {},
   "outputs": [
    {
     "data": {
      "text/plain": [
       "'John'"
      ]
     },
     "execution_count": 11,
     "metadata": {},
     "output_type": "execute_result"
    }
   ],
   "source": [
    "a={\"Name\":\"John\",\n",
    "   \"course\":\"Data Science\"\n",
    "  }\n",
    "a.get(\"Name\")"
   ]
  },
  {
   "cell_type": "code",
   "execution_count": 12,
   "id": "bb07bf47-723e-4602-9a5b-c24eb8dd0821",
   "metadata": {},
   "outputs": [
    {
     "name": "stdout",
     "output_type": "stream",
     "text": [
      "Help on method_descriptor:\n",
      "\n",
      "items(self, /) unbound builtins.dict method\n",
      "    Return a set-like object providing a view on the dict's items.\n",
      "\n"
     ]
    }
   ],
   "source": [
    "# items()\n",
    "help(dict.items)"
   ]
  },
  {
   "cell_type": "code",
   "execution_count": 13,
   "id": "3e4de824-af5d-4fef-a3e0-072dfca41800",
   "metadata": {},
   "outputs": [
    {
     "data": {
      "text/plain": [
       "dict_items([('Name', 'John'), ('course', 'Data Science')])"
      ]
     },
     "execution_count": 13,
     "metadata": {},
     "output_type": "execute_result"
    }
   ],
   "source": [
    "a={\"Name\":\"John\",\n",
    "   \"course\":\"Data Science\"\n",
    "  }\n",
    "a.items()"
   ]
  },
  {
   "cell_type": "code",
   "execution_count": 14,
   "id": "089e74d6-b603-4d9f-a995-02870e2e03df",
   "metadata": {},
   "outputs": [
    {
     "name": "stdout",
     "output_type": "stream",
     "text": [
      "Help on method_descriptor:\n",
      "\n",
      "keys(self, /) unbound builtins.dict method\n",
      "    Return a set-like object providing a view on the dict's keys.\n",
      "\n"
     ]
    }
   ],
   "source": [
    "# keys()\n",
    "help(dict.keys)"
   ]
  },
  {
   "cell_type": "code",
   "execution_count": 15,
   "id": "8991bcc1-5816-4db5-8b43-9db2c25e6fee",
   "metadata": {},
   "outputs": [
    {
     "data": {
      "text/plain": [
       "dict_keys(['Name', 'course'])"
      ]
     },
     "execution_count": 15,
     "metadata": {},
     "output_type": "execute_result"
    }
   ],
   "source": [
    "a={\"Name\":\"John\",\n",
    "   \"course\":\"Data Science\"\n",
    "  }\n",
    "a.keys()"
   ]
  },
  {
   "cell_type": "code",
   "execution_count": 16,
   "id": "873e7101-2469-43a0-94b9-493255c4cc70",
   "metadata": {},
   "outputs": [
    {
     "name": "stdout",
     "output_type": "stream",
     "text": [
      "Help on method_descriptor:\n",
      "\n",
      "pop(self, key, default=<unrepresentable>, /) unbound builtins.dict method\n",
      "    D.pop(k[,d]) -> v, remove specified key and return the corresponding value.\n",
      "\n",
      "    If the key is not found, return the default if given; otherwise,\n",
      "    raise a KeyError.\n",
      "\n"
     ]
    }
   ],
   "source": [
    "# pop()\n",
    "help(dict.pop)"
   ]
  },
  {
   "cell_type": "code",
   "execution_count": 18,
   "id": "535463b2-23e5-4f25-92d7-74167a3c877c",
   "metadata": {},
   "outputs": [
    {
     "data": {
      "text/plain": [
       "'John'"
      ]
     },
     "execution_count": 18,
     "metadata": {},
     "output_type": "execute_result"
    }
   ],
   "source": [
    "a={\"Name\":\"John\",\n",
    "   \"course\":\"Data Science\"\n",
    "  }\n",
    "a.pop(\"Name\")"
   ]
  },
  {
   "cell_type": "code",
   "execution_count": 19,
   "id": "0229f516-4cbb-4e8a-a163-f238b3977299",
   "metadata": {},
   "outputs": [
    {
     "name": "stdout",
     "output_type": "stream",
     "text": [
      "Help on method_descriptor:\n",
      "\n",
      "popitem(self, /) unbound builtins.dict method\n",
      "    Remove and return a (key, value) pair as a 2-tuple.\n",
      "\n",
      "    Pairs are returned in LIFO (last-in, first-out) order.\n",
      "    Raises KeyError if the dict is empty.\n",
      "\n"
     ]
    }
   ],
   "source": [
    "# popitem()\n",
    "help(dict.popitem)"
   ]
  },
  {
   "cell_type": "code",
   "execution_count": 20,
   "id": "a2304548-1261-433b-8fdc-36af180a9f4c",
   "metadata": {},
   "outputs": [
    {
     "data": {
      "text/plain": [
       "('D', 'd')"
      ]
     },
     "execution_count": 20,
     "metadata": {},
     "output_type": "execute_result"
    }
   ],
   "source": [
    "x={'A':'a',\n",
    "   'B':'b',\n",
    "   'C':'c',\n",
    "   'D':'d'\n",
    "}\n",
    "x.popitem()"
   ]
  },
  {
   "cell_type": "code",
   "execution_count": 21,
   "id": "d03005e5-b7cb-442b-8fbd-c1f5a56f0ab1",
   "metadata": {},
   "outputs": [
    {
     "name": "stdout",
     "output_type": "stream",
     "text": [
      "Help on method_descriptor:\n",
      "\n",
      "setdefault(self, key, default=None, /) unbound builtins.dict method\n",
      "    Insert key with a value of default if key is not in the dictionary.\n",
      "\n",
      "    Return the value for key if key is in the dictionary, else default.\n",
      "\n"
     ]
    }
   ],
   "source": [
    "# setdefault()\n",
    "help(dict.setdefault)"
   ]
  },
  {
   "cell_type": "code",
   "execution_count": 23,
   "id": "773ebdf5-f7b2-497c-a24f-f4a32df1e935",
   "metadata": {},
   "outputs": [
    {
     "data": {
      "text/plain": [
       "{'A': 'a', 'B': 'b', 'C': 'c', 'D': 'd', 'E': None}"
      ]
     },
     "execution_count": 23,
     "metadata": {},
     "output_type": "execute_result"
    }
   ],
   "source": [
    "x={'A':'a',\n",
    "   'B':'b',\n",
    "   'C':'c',\n",
    "   'D':'d'\n",
    "}\n",
    "x.setdefault(\"E\")\n",
    "x"
   ]
  },
  {
   "cell_type": "code",
   "execution_count": 24,
   "id": "48b0b16e-e47d-428a-b0de-22853552c9e1",
   "metadata": {},
   "outputs": [
    {
     "name": "stdout",
     "output_type": "stream",
     "text": [
      "Help on method_descriptor:\n",
      "\n",
      "update(...) unbound builtins.dict method\n",
      "    D.update([E, ]**F) -> None.  Update D from mapping/iterable E and F.\n",
      "    If E is present and has a .keys() method, then does:  for k in E.keys(): D[k] = E[k]\n",
      "    If E is present and lacks a .keys() method, then does:  for k, v in E: D[k] = v\n",
      "    In either case, this is followed by: for k in F:  D[k] = F[k]\n",
      "\n"
     ]
    }
   ],
   "source": [
    "# update()\n",
    "help(dict.update)"
   ]
  },
  {
   "cell_type": "code",
   "execution_count": 25,
   "id": "9ee3e1e6-4aa3-49cd-baf9-f8894891c0c2",
   "metadata": {},
   "outputs": [
    {
     "data": {
      "text/plain": [
       "{'A': 'a', 'B': 'b', 'C': 'c', 'D': 'd', 'E': None, 'F': '9', 'g': '10'}"
      ]
     },
     "execution_count": 25,
     "metadata": {},
     "output_type": "execute_result"
    }
   ],
   "source": [
    "\n",
    "x.update(((\"F\",\"9\"),(\"g\",\"10\")))\n",
    "x"
   ]
  },
  {
   "cell_type": "code",
   "execution_count": 26,
   "id": "92d68403-a4b2-45d8-b2cb-8855979bec87",
   "metadata": {},
   "outputs": [
    {
     "name": "stdout",
     "output_type": "stream",
     "text": [
      "Help on method_descriptor:\n",
      "\n",
      "values(self, /) unbound builtins.dict method\n",
      "    Return an object providing a view on the dict's values.\n",
      "\n"
     ]
    }
   ],
   "source": [
    "# values()\n",
    "help(dict.values)"
   ]
  },
  {
   "cell_type": "code",
   "execution_count": 27,
   "id": "00a4402c-59a3-46d1-b3d0-1efeceb4e3f9",
   "metadata": {},
   "outputs": [
    {
     "data": {
      "text/plain": [
       "dict_values(['a', 'b', 'c', 'd', None, '9', '10'])"
      ]
     },
     "execution_count": 27,
     "metadata": {},
     "output_type": "execute_result"
    }
   ],
   "source": [
    "x.values()"
   ]
  },
  {
   "cell_type": "code",
   "execution_count": null,
   "id": "56ace972-9c28-4c6e-a12b-c23646cfd617",
   "metadata": {},
   "outputs": [],
   "source": []
  },
  {
   "cell_type": "code",
   "execution_count": null,
   "id": "96c0cc1b-35a3-4399-aeff-8002a3226bdd",
   "metadata": {},
   "outputs": [],
   "source": []
  },
  {
   "cell_type": "code",
   "execution_count": null,
   "id": "5e46694c-6d92-41c3-8ca3-90ff6eac0668",
   "metadata": {},
   "outputs": [],
   "source": []
  }
 ],
 "metadata": {
  "kernelspec": {
   "display_name": "Python 3 (ipykernel)",
   "language": "python",
   "name": "python3"
  },
  "language_info": {
   "codemirror_mode": {
    "name": "ipython",
    "version": 3
   },
   "file_extension": ".py",
   "mimetype": "text/x-python",
   "name": "python",
   "nbconvert_exporter": "python",
   "pygments_lexer": "ipython3",
   "version": "3.13.5"
  }
 },
 "nbformat": 4,
 "nbformat_minor": 5
}
