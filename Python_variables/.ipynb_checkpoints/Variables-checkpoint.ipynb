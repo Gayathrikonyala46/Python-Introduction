{
 "cells": [
  {
   "cell_type": "markdown",
   "id": "f36ef5eb-5fe1-4c95-b2e9-07f50be63753",
   "metadata": {},
   "source": [
    "# Python Introduction\n",
    "* Python is a interpreted and highlevel programming language.\n",
    "* Python is widely used for web development, data analysis , artificial intelligence , automation.\n",
    "* It is very easy to read and write and it is easy to understand and simple syntax.\n",
    "* Python may use indentation.\n",
    "     \n",
    "\n",
    " "
   ]
  },
  {
   "cell_type": "markdown",
   "id": "359ed6a9-82f7-480c-8e54-56f37afdb3e9",
   "metadata": {},
   "source": [
    "## Variables\n",
    "* Data is crucial part of every program,because data is something that is both\n",
    "  input & output for a program.\n",
    "* Many times,it is required to store this data in the program temporarily.For\n",
    "  this pupose we create variables.\n",
    "* Variables are just containers to store data & variables names are just lables\n",
    "  to those containers.\n",
    "* It starts with `(_)`underscore and letters `( a to z)`,`(A to Z)` and digits  \n",
    "  `( 0 to 9)`.\n",
    "* It can't contains special characters.\n",
    "* We can store data in any variable using an equals sign`( = )`."
   ]
  },
  {
   "cell_type": "markdown",
   "id": "d5279aa5-17da-42d0-85a3-03ee060b44f3",
   "metadata": {},
   "source": [
    "### Datatypes Overview\n",
    "* Numeric data types\n",
    "\n",
    "    * int - 5,11\n",
    "    * float - 11.11,22.22\n",
    "    * complex - 3+5j\n",
    "* Sequential data types\n",
    "\n",
    "    * Strings - 'joseph',\"john\"\n",
    "    * Lists - [1,2,'a',1.5]\n",
    "    * Tuple - (1,2,'a',1.5)\n",
    "    * Dictionaries - {'name':'john','age':21}\n",
    "    * Sets - (1,4,5,7)-----> unorderd\n",
    "    * Boolean - True,False\n",
    "    * Range"
   ]
  },
  {
   "cell_type": "markdown",
   "id": "227ea523-e3bd-43ea-ac82-da3bc3a751d7",
   "metadata": {},
   "source": [
    "### Id()\n",
    "* It is used to find memory location."
   ]
  },
  {
   "cell_type": "markdown",
   "id": "8ed3e8a7-09e1-4464-8bfa-02d8020f3e7d",
   "metadata": {},
   "source": [
    "### Numerical Datatypes"
   ]
  },
  {
   "cell_type": "markdown",
   "id": "662c26e4-d59d-4e2c-a1e0-e3dc7c730a50",
   "metadata": {},
   "source": [
    "#### Integer\n",
    "* integers are immutable\n",
    "* if the same variable have two values that means it is not mutable .It means `the variable points to new memory location.`"
   ]
  },
  {
   "cell_type": "code",
   "execution_count": 2,
   "id": "08e04f14-72ba-41cf-a185-f6f552c5171b",
   "metadata": {},
   "outputs": [
    {
     "data": {
      "text/plain": [
       "(140717506016456, 140717506016456)"
      ]
     },
     "execution_count": 2,
     "metadata": {},
     "output_type": "execute_result"
    }
   ],
   "source": [
    "# example for same value assigned to different variable\n",
    "x=10\n",
    "y=10\n",
    "id(x),id(y)"
   ]
  },
  {
   "cell_type": "code",
   "execution_count": 3,
   "id": "7496f047-782d-4142-89da-8e7389d6bd00",
   "metadata": {},
   "outputs": [
    {
     "data": {
      "text/plain": [
       "140717506016232"
      ]
     },
     "execution_count": 3,
     "metadata": {},
     "output_type": "execute_result"
    }
   ],
   "source": [
    "# Here x is assigned ti another value, so it points to new memory loc\n",
    "x=3\n",
    "id(x)"
   ]
  },
  {
   "cell_type": "markdown",
   "id": "93194a3e-c629-4b0a-a355-5482c3365aae",
   "metadata": {},
   "source": [
    "#### float "
   ]
  },
  {
   "cell_type": "code",
   "execution_count": 4,
   "id": "15876e0a-9080-4af6-9cfa-1d55bd7e1cc5",
   "metadata": {},
   "outputs": [
    {
     "data": {
      "text/plain": [
       "(1956141987632, 1956143451376)"
      ]
     },
     "execution_count": 4,
     "metadata": {},
     "output_type": "execute_result"
    }
   ],
   "source": [
    "# same value different memory location\n",
    "a=5.4\n",
    "b=5.4\n",
    "id(a),id(b)"
   ]
  },
  {
   "cell_type": "code",
   "execution_count": 5,
   "id": "ddaa5d00-b118-40e6-9572-20a78a773888",
   "metadata": {},
   "outputs": [
    {
     "data": {
      "text/plain": [
       "1956143451696"
      ]
     },
     "execution_count": 5,
     "metadata": {},
     "output_type": "execute_result"
    }
   ],
   "source": [
    "# a has assigned different value, so different memory loc\n",
    "a=5.5\n",
    "id(a)"
   ]
  },
  {
   "cell_type": "markdown",
   "id": "ed135327-8253-4130-bc03-eb433c369bbf",
   "metadata": {},
   "source": [
    "#### complex\n",
    "* Complex numbers are the numbers that are expressed in the form of a+ib where, a,b are real numbers and 'i' is an imaginary number."
   ]
  },
  {
   "cell_type": "code",
   "execution_count": 6,
   "id": "a933aab6-2a70-4df1-b077-38eaf6cc2307",
   "metadata": {},
   "outputs": [
    {
     "name": "stdout",
     "output_type": "stream",
     "text": [
      "the real pat is 5.5 and imaginary part is 5.0\n"
     ]
    }
   ],
   "source": [
    "x=5.5+5j\n",
    "print(f'the real pat is {x.real} and imaginary part is {x.imag}')"
   ]
  },
  {
   "cell_type": "markdown",
   "id": "a9b73bd3-b04e-41a6-af0a-96cf16563f0a",
   "metadata": {},
   "source": [
    "### Functions we use on numerical datatypes"
   ]
  },
  {
   "cell_type": "markdown",
   "id": "7b1c544d-a659-4297-bb2b-283d8568583d",
   "metadata": {},
   "source": [
    "### 1. absolute -----> abs()\n",
    "* abs() is a function not a datatype.\n",
    "* this function gives the absolute value for the given value.\n",
    "* this function removes the magnitude of the given value."
   ]
  },
  {
   "cell_type": "code",
   "execution_count": 7,
   "id": "f35db26b-bb89-4b51-af5c-90caaecb0190",
   "metadata": {},
   "outputs": [
    {
     "data": {
      "text/plain": [
       "18"
      ]
     },
     "execution_count": 7,
     "metadata": {},
     "output_type": "execute_result"
    }
   ],
   "source": [
    "x=-18\n",
    "abs(x)"
   ]
  },
  {
   "cell_type": "markdown",
   "id": "b0e05dd0-295b-4470-ac29-4609016662c4",
   "metadata": {},
   "source": [
    "### 2. floor() and ceil()\n",
    "* It is a function of math module.\n",
    "* it will give the floor and ceil values for the given value."
   ]
  },
  {
   "cell_type": "code",
   "execution_count": 8,
   "id": "ddcf3569-5454-45b9-8668-219403ad69df",
   "metadata": {},
   "outputs": [
    {
     "data": {
      "text/plain": [
       "(3, 4)"
      ]
     },
     "execution_count": 8,
     "metadata": {},
     "output_type": "execute_result"
    }
   ],
   "source": [
    "import math\n",
    "from math import floor,ceil\n",
    "floor(3.67),ceil(3.67)"
   ]
  },
  {
   "cell_type": "markdown",
   "id": "156e3106-7d5d-4a88-b79c-f2bdf6c7011a",
   "metadata": {},
   "source": [
    "#### 3. round()\n",
    "* this function rounds the given value to the next integer"
   ]
  },
  {
   "cell_type": "code",
   "execution_count": 9,
   "id": "ff74eec4-6422-4990-89d8-4f83e480e45c",
   "metadata": {},
   "outputs": [
    {
     "data": {
      "text/plain": [
       "6"
      ]
     },
     "execution_count": 9,
     "metadata": {},
     "output_type": "execute_result"
    }
   ],
   "source": [
    "round(5.56)"
   ]
  },
  {
   "cell_type": "code",
   "execution_count": 10,
   "id": "282334dc-a802-4030-87aa-0b2f9ba81a78",
   "metadata": {},
   "outputs": [
    {
     "data": {
      "text/plain": [
       "5.6"
      ]
     },
     "execution_count": 10,
     "metadata": {},
     "output_type": "execute_result"
    }
   ],
   "source": [
    "# rounds the value to the next one decimal point\n",
    "round(5.56,1)"
   ]
  },
  {
   "cell_type": "code",
   "execution_count": 11,
   "id": "37415fc9-984e-48d5-a565-8a754be69577",
   "metadata": {},
   "outputs": [
    {
     "data": {
      "text/plain": [
       "5.57"
      ]
     },
     "execution_count": 11,
     "metadata": {},
     "output_type": "execute_result"
    }
   ],
   "source": [
    "# rounds the value to the next two decimal points\n",
    "round(5.567,2)\n"
   ]
  },
  {
   "cell_type": "code",
   "execution_count": null,
   "id": "b438d1fb-cc60-4572-85bb-2d40504752b9",
   "metadata": {},
   "outputs": [],
   "source": []
  },
  {
   "cell_type": "code",
   "execution_count": null,
   "id": "cd3cdd92-0ba3-43f1-9b57-4ca0bb2ec210",
   "metadata": {},
   "outputs": [],
   "source": []
  },
  {
   "cell_type": "code",
   "execution_count": null,
   "id": "3d9307f3-9e53-4dbd-b2f7-951650773ef7",
   "metadata": {},
   "outputs": [],
   "source": []
  },
  {
   "cell_type": "code",
   "execution_count": null,
   "id": "7f9b191a-6fd0-457c-9d06-927867de6aa0",
   "metadata": {},
   "outputs": [],
   "source": []
  },
  {
   "cell_type": "code",
   "execution_count": null,
   "id": "9fe51b46-004b-4a24-b5c8-4bafa1e5e1b4",
   "metadata": {},
   "outputs": [],
   "source": []
  },
  {
   "cell_type": "code",
   "execution_count": null,
   "id": "0d985eec-5c65-4a6b-abf6-22ab35801eae",
   "metadata": {},
   "outputs": [],
   "source": []
  }
 ],
 "metadata": {
  "kernelspec": {
   "display_name": "Python 3 (ipykernel)",
   "language": "python",
   "name": "python3"
  },
  "language_info": {
   "codemirror_mode": {
    "name": "ipython",
    "version": 3
   },
   "file_extension": ".py",
   "mimetype": "text/x-python",
   "name": "python",
   "nbconvert_exporter": "python",
   "pygments_lexer": "ipython3",
   "version": "3.13.5"
  }
 },
 "nbformat": 4,
 "nbformat_minor": 5
}
