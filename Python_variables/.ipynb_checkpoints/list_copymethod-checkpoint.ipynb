{
 "cells": [
  {
   "cell_type": "markdown",
   "id": "62afde62-5974-49a7-9034-05b5414c7f9f",
   "metadata": {},
   "source": [
    "#### copy() ---------->list method"
   ]
  },
  {
   "cell_type": "code",
   "execution_count": 1,
   "id": "6e8ededc-b77e-45b6-b273-88b36570c728",
   "metadata": {},
   "outputs": [
    {
     "name": "stdout",
     "output_type": "stream",
     "text": [
      "Help on method_descriptor:\n",
      "\n",
      "copy(self, /) unbound builtins.list method\n",
      "    Return a shallow copy of the list.\n",
      "\n"
     ]
    }
   ],
   "source": [
    "help(list.copy)"
   ]
  },
  {
   "cell_type": "code",
   "execution_count": 2,
   "id": "01a4677a-d752-4602-8dd9-f91acd772e4b",
   "metadata": {},
   "outputs": [
    {
     "data": {
      "text/plain": [
       "([1, 2, 3], [1, 2, 3])"
      ]
     },
     "execution_count": 2,
     "metadata": {},
     "output_type": "execute_result"
    }
   ],
   "source": [
    "# In this if we update x, the changes will also happen in y\n",
    "x=[1,2,3]\n",
    "y=x\n",
    "x,y"
   ]
  },
  {
   "cell_type": "code",
   "execution_count": 3,
   "id": "920e9a32-fa78-4bc9-b69d-603b618f5dca",
   "metadata": {},
   "outputs": [
    {
     "data": {
      "text/plain": [
       "([1, 2, 3, 4], [1, 2, 3, 4])"
      ]
     },
     "execution_count": 3,
     "metadata": {},
     "output_type": "execute_result"
    }
   ],
   "source": [
    "x.append(4)\n",
    "x,y"
   ]
  },
  {
   "cell_type": "markdown",
   "id": "ece62a33-13a6-4cd8-8fa3-131e7a4d1ffb",
   "metadata": {},
   "source": [
    "#### To avoid this we use copy method"
   ]
  },
  {
   "cell_type": "markdown",
   "id": "e7cb66d6-5121-435b-8982-dba641beb4f7",
   "metadata": {},
   "source": [
    "#### x and y are in different memory locations but same value"
   ]
  },
  {
   "cell_type": "code",
   "execution_count": 5,
   "id": "1b90910b-0573-4e2c-a4ea-c0fcffa19076",
   "metadata": {},
   "outputs": [
    {
     "data": {
      "text/plain": [
       "([1, 2, 3, 4], [1, 2, 3, 4], 2927063806720, 2927063796928)"
      ]
     },
     "execution_count": 5,
     "metadata": {},
     "output_type": "execute_result"
    }
   ],
   "source": [
    "y=x.copy()\n",
    "x,y,id(x),id(y)"
   ]
  },
  {
   "cell_type": "code",
   "execution_count": 7,
   "id": "66ea391b-4e7f-4fce-9f45-2911fec57780",
   "metadata": {},
   "outputs": [
    {
     "data": {
      "text/plain": [
       "([1, 2, 3, 4, 4, 4], [1, 2, 3, 4])"
      ]
     },
     "execution_count": 7,
     "metadata": {},
     "output_type": "execute_result"
    }
   ],
   "source": [
    "### if now we update x , the changes will not happen in y beacause memoey location is different\n",
    "x.append(4)\n",
    "x,y"
   ]
  },
  {
   "cell_type": "markdown",
   "id": "ed254b0d-1356-4c28-8164-73351e65e0d0",
   "metadata": {},
   "source": [
    "#### Now let's see if this also applicable for nested lists"
   ]
  },
  {
   "cell_type": "code",
   "execution_count": 9,
   "id": "a15f4b1e-7a98-4756-9c7d-752d8f505371",
   "metadata": {},
   "outputs": [
    {
     "data": {
      "text/plain": [
       "([[1, 2, 3], [4, 5, 6]], [[1, 2, 3], [4, 5, 6]], 2927063806528, 2927063795840)"
      ]
     },
     "execution_count": 9,
     "metadata": {},
     "output_type": "execute_result"
    }
   ],
   "source": [
    "a=[[1,2,3],[4,5,6]]\n",
    "b=a.copy()\n",
    "a,b,id(a),id(b)"
   ]
  },
  {
   "cell_type": "code",
   "execution_count": 10,
   "id": "6111fbba-3193-4743-a45e-d9e5b80d4252",
   "metadata": {},
   "outputs": [
    {
     "data": {
      "text/plain": [
       "([['c', 2, 3], [4, 5, 6]], [['c', 2, 3], [4, 5, 6]])"
      ]
     },
     "execution_count": 10,
     "metadata": {},
     "output_type": "execute_result"
    }
   ],
   "source": [
    "b[0][0]=\"c\"\n",
    "a,b"
   ]
  },
  {
   "cell_type": "markdown",
   "id": "07d4e887-c8ff-47f2-bb04-b7e06a6b621f",
   "metadata": {},
   "source": [
    "#### The changes happened in a also. This copy() will not workout for nested lists. To avoid this we use deep copy."
   ]
  },
  {
   "cell_type": "code",
   "execution_count": 11,
   "id": "682e340e-1476-4f41-90b4-b7108a543a4c",
   "metadata": {},
   "outputs": [],
   "source": [
    "import copy\n",
    "from copy import deepcopy"
   ]
  },
  {
   "cell_type": "code",
   "execution_count": 15,
   "id": "021a8eb8-8a8a-4302-bdb3-cd288cb0d04d",
   "metadata": {},
   "outputs": [
    {
     "data": {
      "text/plain": [
       "([1, 2, [3, 4, 5]], [1, 2, [3, 4, 5]])"
      ]
     },
     "execution_count": 15,
     "metadata": {},
     "output_type": "execute_result"
    }
   ],
   "source": [
    "x=[1,2,[3,4,5]]\n",
    "y=copy.deepcopy(x)\n",
    "x,y"
   ]
  },
  {
   "cell_type": "code",
   "execution_count": 17,
   "id": "0ec3b809-ef83-433d-a077-661846eb031f",
   "metadata": {},
   "outputs": [
    {
     "data": {
      "text/plain": [
       "([1, 2, [3, 'b', 5]], [1, 2, [3, 4, 5]])"
      ]
     },
     "execution_count": 17,
     "metadata": {},
     "output_type": "execute_result"
    }
   ],
   "source": [
    "x[2][1]=\"b\"  # now the changes will not happens in y\n",
    "x,y"
   ]
  },
  {
   "cell_type": "code",
   "execution_count": 19,
   "id": "6b8aaf96-e27b-415d-b774-b8aeb44090b9",
   "metadata": {},
   "outputs": [
    {
     "data": {
      "text/plain": [
       "([1, 2, [3, 'b', 5]], [1, 2, ['a', 4, 5]])"
      ]
     },
     "execution_count": 19,
     "metadata": {},
     "output_type": "execute_result"
    }
   ],
   "source": [
    "y[2][0]=\"a\"  # now the changes will nt happens in x\n",
    "x,y"
   ]
  },
  {
   "cell_type": "code",
   "execution_count": null,
   "id": "9fad9091-79ce-40c0-a017-4a835265e6fd",
   "metadata": {},
   "outputs": [],
   "source": []
  }
 ],
 "metadata": {
  "kernelspec": {
   "display_name": "Python 3 (ipykernel)",
   "language": "python",
   "name": "python3"
  },
  "language_info": {
   "codemirror_mode": {
    "name": "ipython",
    "version": 3
   },
   "file_extension": ".py",
   "mimetype": "text/x-python",
   "name": "python",
   "nbconvert_exporter": "python",
   "pygments_lexer": "ipython3",
   "version": "3.13.5"
  }
 },
 "nbformat": 4,
 "nbformat_minor": 5
}
