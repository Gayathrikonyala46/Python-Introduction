{
 "cells": [
  {
   "cell_type": "markdown",
   "id": "a09fc02a-29a0-457e-9bfb-c40e8c783d89",
   "metadata": {},
   "source": [
    "### **List Datatype**\n",
    "* A list is an ordered sequence of elements. It is one of the most common data types in Python. Lists can be of any length and can contain any type of data.\n",
    "* Lists can be accessed using indexes. The first element of a list is at index 0, the second element is at index 1, and so on.And they can be Slicable\n",
    "* Lists are created using square brackets []. The elements of a list are separated by commas\n",
    "* Lists can be nested. This means that a list can contain another list.\n",
    "* Lists have sequence and lists are `mutable`\n",
    "* Lists are heterogeneous in nature"
   ]
  },
  {
   "cell_type": "code",
   "execution_count": 1,
   "id": "075ccd05-1de0-4d86-92cf-c3fd0291af31",
   "metadata": {},
   "outputs": [
    {
     "data": {
      "text/plain": [
       "[1,\n",
       " 2.5,\n",
       " (9+7j),\n",
       " 'abcd',\n",
       " <function print(*args, sep=' ', end='\\n', file=None, flush=False)>,\n",
       " <function dir>,\n",
       " int]"
      ]
     },
     "execution_count": 1,
     "metadata": {},
     "output_type": "execute_result"
    }
   ],
   "source": [
    "# Lists are heterogeneous\n",
    "x=[1,2.5,9+7j,\"abcd\",print,dir,int]\n",
    "x"
   ]
  },
  {
   "cell_type": "markdown",
   "id": "2ed3c47b-c8f0-423a-94b5-19ff2c32c6d6",
   "metadata": {},
   "source": [
    "#### Creating list using list class"
   ]
  },
  {
   "cell_type": "code",
   "execution_count": 2,
   "id": "00363392-192b-4ea2-b516-85acc543bc82",
   "metadata": {},
   "outputs": [
    {
     "data": {
      "text/plain": [
       "[1, 2, 3]"
      ]
     },
     "execution_count": 2,
     "metadata": {},
     "output_type": "execute_result"
    }
   ],
   "source": [
    "z=list((1,2,3))\n",
    "z"
   ]
  },
  {
   "cell_type": "code",
   "execution_count": 3,
   "id": "399fe702-ffac-4cbf-9bbf-941d3423dd06",
   "metadata": {},
   "outputs": [
    {
     "data": {
      "text/plain": [
       "['H', 'e', 'l', 'l', 'o']"
      ]
     },
     "execution_count": 3,
     "metadata": {},
     "output_type": "execute_result"
    }
   ],
   "source": [
    "a=list(\"Hello\")\n",
    "a"
   ]
  },
  {
   "cell_type": "code",
   "execution_count": 4,
   "id": "f9afe5a9-ba3c-4637-8608-9b0bc25077b8",
   "metadata": {},
   "outputs": [
    {
     "data": {
      "text/plain": [
       "['Hello']"
      ]
     },
     "execution_count": 4,
     "metadata": {},
     "output_type": "execute_result"
    }
   ],
   "source": [
    "b=list([\"Hello\"])\n",
    "b"
   ]
  },
  {
   "cell_type": "code",
   "execution_count": 5,
   "id": "95273635-b62a-4023-aa95-689aea68568f",
   "metadata": {},
   "outputs": [
    {
     "data": {
      "text/plain": [
       "[8, 65, 2, -9]"
      ]
     },
     "execution_count": 5,
     "metadata": {},
     "output_type": "execute_result"
    }
   ],
   "source": [
    "c=list({65,8,2,-9})  # it will come in unordered because set is unordered\n",
    "c"
   ]
  },
  {
   "cell_type": "code",
   "execution_count": 7,
   "id": "cf8d4664-dde6-412d-ba7e-7c473cd4cbf5",
   "metadata": {},
   "outputs": [
    {
     "data": {
      "text/plain": [
       "[1, 2, 3, 4, [5, 6, 7, [8, 9]]]"
      ]
     },
     "execution_count": 7,
     "metadata": {},
     "output_type": "execute_result"
    }
   ],
   "source": [
    "# Nested list\n",
    "\n",
    "x=[1,2,3,4,[5,6,7,[8,9]]]\n",
    "x"
   ]
  },
  {
   "cell_type": "markdown",
   "id": "31dfc27a-d9ae-49b3-8263-93276c2bc8fa",
   "metadata": {},
   "source": [
    "#### Slicing\n",
    "* [start : stop : step]"
   ]
  },
  {
   "cell_type": "code",
   "execution_count": 16,
   "id": "5204b98f-3992-4078-aec4-e724cfe49b87",
   "metadata": {},
   "outputs": [
    {
     "name": "stdout",
     "output_type": "stream",
     "text": [
      "2\n",
      "[1, 2, 3, 4, 5]\n",
      "[5, 4, 3, 2, 1]\n",
      "5\n",
      "[1, 2, 3, 4, 5]\n"
     ]
    }
   ],
   "source": [
    "a=[1,2,3,4,5]\n",
    "\n",
    "print(a[1])\n",
    "print(a[0:5:1])\n",
    "\n",
    "print(a[::-1])\n",
    "print(a[-1])\n",
    "print(a[-6: :1])"
   ]
  },
  {
   "cell_type": "code",
   "execution_count": 17,
   "id": "5f4944d8-af9b-4aed-af7f-3533dfb428db",
   "metadata": {},
   "outputs": [
    {
     "name": "stdout",
     "output_type": "stream",
     "text": [
      "[5, 6, 7, [8, 9]]\n",
      "5\n",
      "[8, 9]\n"
     ]
    }
   ],
   "source": [
    "# Nested list\n",
    "\n",
    "x=[1,2,3,4,[5,6,7,[8,9]]]\n",
    "\n",
    "print(x[4])\n",
    "\n",
    "print(x[4][0])\n",
    "\n",
    "print(x[4][3])"
   ]
  },
  {
   "cell_type": "markdown",
   "id": "e9bd752d-f8e9-474d-9e8c-4e5900c5bb9b",
   "metadata": {},
   "source": [
    "#### List concatenation\n"
   ]
  },
  {
   "cell_type": "code",
   "execution_count": 18,
   "id": "a2ea6d32-65e9-4818-aa3c-77acaeaf4bab",
   "metadata": {},
   "outputs": [
    {
     "data": {
      "text/plain": [
       "[1, 2, 3, 5, 6, 7]"
      ]
     },
     "execution_count": 18,
     "metadata": {},
     "output_type": "execute_result"
    }
   ],
   "source": [
    "a=[1,2,3]\n",
    "b=[5,6,7]\n",
    "\n",
    "a+b"
   ]
  },
  {
   "cell_type": "markdown",
   "id": "b747b65b-21fc-40c6-8b3d-bbc6ae77c03f",
   "metadata": {},
   "source": [
    "#### List repitition"
   ]
  },
  {
   "cell_type": "code",
   "execution_count": 19,
   "id": "329c5aea-8408-4500-8bd6-b742084e4588",
   "metadata": {},
   "outputs": [
    {
     "data": {
      "text/plain": [
       "[4, 5, 6, 4, 5, 6, 4, 5, 6]"
      ]
     },
     "execution_count": 19,
     "metadata": {},
     "output_type": "execute_result"
    }
   ],
   "source": [
    "[4,5,6]*3"
   ]
  },
  {
   "cell_type": "markdown",
   "id": "1040f8a3-3af4-42b8-bf09-3c4d1b076e62",
   "metadata": {},
   "source": [
    "## Methods of List datatype\n",
    "* dir() ------> returns valid attributes for the given object\n",
    "* help() --------> offers documentation and information about various python objects\n"
   ]
  },
  {
   "cell_type": "code",
   "execution_count": 20,
   "id": "c45507df-9032-4363-a018-90f62f66c727",
   "metadata": {},
   "outputs": [
    {
     "name": "stdout",
     "output_type": "stream",
     "text": [
      "['__add__', '__class__', '__class_getitem__', '__contains__', '__delattr__', '__delitem__', '__dir__', '__doc__', '__eq__', '__format__', '__ge__', '__getattribute__', '__getitem__', '__getstate__', '__gt__', '__hash__', '__iadd__', '__imul__', '__init__', '__init_subclass__', '__iter__', '__le__', '__len__', '__lt__', '__mul__', '__ne__', '__new__', '__reduce__', '__reduce_ex__', '__repr__', '__reversed__', '__rmul__', '__setattr__', '__setitem__', '__sizeof__', '__str__', '__subclasshook__', 'append', 'clear', 'copy', 'count', 'extend', 'index', 'insert', 'pop', 'remove', 'reverse', 'sort']\n"
     ]
    }
   ],
   "source": [
    "x=dir(list)\n",
    "print(x)"
   ]
  },
  {
   "cell_type": "code",
   "execution_count": 22,
   "id": "94b01c9d-76fb-4ca5-ac12-2621516405c8",
   "metadata": {},
   "outputs": [
    {
     "name": "stdout",
     "output_type": "stream",
     "text": [
      "Help on method_descriptor:\n",
      "\n",
      "append(self, object, /) unbound builtins.list method\n",
      "    Append object to the end of the list.\n",
      "\n"
     ]
    }
   ],
   "source": [
    "# append()\n",
    "\n",
    "help(list.append)"
   ]
  },
  {
   "cell_type": "code",
   "execution_count": 23,
   "id": "f86c05b4-5ded-40d4-b7d4-25615137c6a1",
   "metadata": {},
   "outputs": [
    {
     "data": {
      "text/plain": [
       "[1, 2, 3, 4]"
      ]
     },
     "execution_count": 23,
     "metadata": {},
     "output_type": "execute_result"
    }
   ],
   "source": [
    "# example\n",
    "\n",
    "x=[1,2,3]\n",
    "x.append(4)\n",
    "x"
   ]
  },
  {
   "cell_type": "code",
   "execution_count": 24,
   "id": "69ff9afd-2af6-4bc1-883c-9309cc60726c",
   "metadata": {},
   "outputs": [
    {
     "name": "stdout",
     "output_type": "stream",
     "text": [
      "Help on method_descriptor:\n",
      "\n",
      "clear(self, /) unbound builtins.list method\n",
      "    Remove all items from list.\n",
      "\n"
     ]
    }
   ],
   "source": [
    "# clear()\n",
    "\n",
    "help(list.clear)"
   ]
  },
  {
   "cell_type": "code",
   "execution_count": 25,
   "id": "75b9fb5b-495b-4cce-ae7c-fe3c7a6af215",
   "metadata": {},
   "outputs": [
    {
     "name": "stdout",
     "output_type": "stream",
     "text": [
      "Help on method_descriptor:\n",
      "\n",
      "count(self, value, /) unbound builtins.list method\n",
      "    Return number of occurrences of value.\n",
      "\n"
     ]
    }
   ],
   "source": [
    "# count()\n",
    "\n",
    "help(list.count)"
   ]
  },
  {
   "cell_type": "code",
   "execution_count": 26,
   "id": "22eb4aae-bcd2-427c-9cda-34a0ac4d130a",
   "metadata": {},
   "outputs": [
    {
     "data": {
      "text/plain": [
       "4"
      ]
     },
     "execution_count": 26,
     "metadata": {},
     "output_type": "execute_result"
    }
   ],
   "source": [
    "x=\"Malayalam\"\n",
    "x.count(\"a\")"
   ]
  },
  {
   "cell_type": "code",
   "execution_count": 27,
   "id": "8f3711bf-2ce1-48e6-b1be-5a0b1dd06581",
   "metadata": {},
   "outputs": [
    {
     "name": "stdout",
     "output_type": "stream",
     "text": [
      "Help on method_descriptor:\n",
      "\n",
      "extend(self, iterable, /) unbound builtins.list method\n",
      "    Extend list by appending elements from the iterable.\n",
      "\n"
     ]
    }
   ],
   "source": [
    "# extend()\n",
    "\n",
    "help(list.extend)"
   ]
  },
  {
   "cell_type": "code",
   "execution_count": 29,
   "id": "127657cb-653e-48b8-a081-897d00bc36eb",
   "metadata": {},
   "outputs": [
    {
     "data": {
      "text/plain": [
       "[4, 5, 6, '7', '8', '9']"
      ]
     },
     "execution_count": 29,
     "metadata": {},
     "output_type": "execute_result"
    }
   ],
   "source": [
    "x=[4,5,6]\n",
    "x.extend(\"789\")\n",
    "x"
   ]
  },
  {
   "cell_type": "code",
   "execution_count": 30,
   "id": "0679d8fc-f907-4620-8ec7-a1ef702656c2",
   "metadata": {},
   "outputs": [
    {
     "data": {
      "text/plain": [
       "[4, 5, 6, '7', '8', '9', '123']"
      ]
     },
     "execution_count": 30,
     "metadata": {},
     "output_type": "execute_result"
    }
   ],
   "source": [
    "x.extend([\"123\"])\n",
    "x"
   ]
  },
  {
   "cell_type": "code",
   "execution_count": 32,
   "id": "7fd35e13-c7f0-45b6-92b5-a0a9a7b8ee74",
   "metadata": {},
   "outputs": [
    {
     "name": "stdout",
     "output_type": "stream",
     "text": [
      "Help on method_descriptor:\n",
      "\n",
      "index(self, value, start=0, stop=9223372036854775807, /) unbound builtins.list method\n",
      "    Return first index of value.\n",
      "\n",
      "    Raises ValueError if the value is not present.\n",
      "\n"
     ]
    }
   ],
   "source": [
    "# index()\n",
    "\n",
    "help(list.index)"
   ]
  },
  {
   "cell_type": "code",
   "execution_count": 33,
   "id": "75aeec0d-fccc-489c-8b3d-bd925019069e",
   "metadata": {},
   "outputs": [
    {
     "data": {
      "text/plain": [
       "1"
      ]
     },
     "execution_count": 33,
     "metadata": {},
     "output_type": "execute_result"
    }
   ],
   "source": [
    "x='Mayalayam'\n",
    "x.index('a')"
   ]
  },
  {
   "cell_type": "code",
   "execution_count": 34,
   "id": "1f24ecdf-c055-452c-a4a0-b8c8f7b9e4bb",
   "metadata": {},
   "outputs": [
    {
     "data": {
      "text/plain": [
       "5"
      ]
     },
     "execution_count": 34,
     "metadata": {},
     "output_type": "execute_result"
    }
   ],
   "source": [
    "x.index('a',4)"
   ]
  },
  {
   "cell_type": "code",
   "execution_count": 35,
   "id": "ae29eced-cde2-404c-b6c1-99ce9bb6ae6c",
   "metadata": {},
   "outputs": [
    {
     "name": "stdout",
     "output_type": "stream",
     "text": [
      "Help on method_descriptor:\n",
      "\n",
      "index(self, value, start=0, stop=9223372036854775807, /) unbound builtins.list method\n",
      "    Return first index of value.\n",
      "\n",
      "    Raises ValueError if the value is not present.\n",
      "\n"
     ]
    }
   ],
   "source": [
    "# insert()\n",
    "\n",
    "help(list.index)"
   ]
  },
  {
   "cell_type": "code",
   "execution_count": 37,
   "id": "da39bdd1-36d8-4da5-8c83-8acea7399217",
   "metadata": {},
   "outputs": [
    {
     "data": {
      "text/plain": [
       "[1, 2, 3, 'c']"
      ]
     },
     "execution_count": 37,
     "metadata": {},
     "output_type": "execute_result"
    }
   ],
   "source": [
    "a=[1,2,3]\n",
    "a.insert(3,\"c\")\n",
    "a"
   ]
  },
  {
   "cell_type": "code",
   "execution_count": 38,
   "id": "c4c3ed77-0323-439e-8757-40bc94b580cc",
   "metadata": {},
   "outputs": [
    {
     "data": {
      "text/plain": [
       "[1, [5, 6, 7], 2, 3, 'c']"
      ]
     },
     "execution_count": 38,
     "metadata": {},
     "output_type": "execute_result"
    }
   ],
   "source": [
    "a.insert(1,[5,6,7])\n",
    "a"
   ]
  },
  {
   "cell_type": "code",
   "execution_count": 39,
   "id": "8aa3d11c-c5ec-4bed-ae97-de52a246ad3b",
   "metadata": {},
   "outputs": [
    {
     "name": "stdout",
     "output_type": "stream",
     "text": [
      "Help on method_descriptor:\n",
      "\n",
      "pop(self, index=-1, /) unbound builtins.list method\n",
      "    Remove and return item at index (default last).\n",
      "\n",
      "    Raises IndexError if list is empty or index is out of range.\n",
      "\n"
     ]
    }
   ],
   "source": [
    "# pop()\n",
    "\n",
    "help(list.pop)"
   ]
  },
  {
   "cell_type": "code",
   "execution_count": 40,
   "id": "41ce4407-eca9-4a91-bb1e-a47ccaf92c1d",
   "metadata": {},
   "outputs": [
    {
     "data": {
      "text/plain": [
       "6"
      ]
     },
     "execution_count": 40,
     "metadata": {},
     "output_type": "execute_result"
    }
   ],
   "source": [
    "b=[4,5,6,7,8]\n",
    "b.pop(2)"
   ]
  },
  {
   "cell_type": "code",
   "execution_count": 41,
   "id": "b2d9b333-391a-47be-98e3-1501840bb786",
   "metadata": {},
   "outputs": [
    {
     "name": "stdout",
     "output_type": "stream",
     "text": [
      "Help on method_descriptor:\n",
      "\n",
      "remove(self, value, /) unbound builtins.list method\n",
      "    Remove first occurrence of value.\n",
      "\n",
      "    Raises ValueError if the value is not present.\n",
      "\n"
     ]
    }
   ],
   "source": [
    "# remove()\n",
    "\n",
    "help(list.remove)"
   ]
  },
  {
   "cell_type": "code",
   "execution_count": 43,
   "id": "bdbe0c23-ce9a-4759-a573-4c881be1a492",
   "metadata": {},
   "outputs": [
    {
     "data": {
      "text/plain": [
       "[9, 8, 7, 5, 4]"
      ]
     },
     "execution_count": 43,
     "metadata": {},
     "output_type": "execute_result"
    }
   ],
   "source": [
    "y=[9,8,7,6,5,4]\n",
    "y.remove(6)\n",
    "y"
   ]
  },
  {
   "cell_type": "code",
   "execution_count": 44,
   "id": "b0531bcf-c64a-4512-b3b9-f392e9f7908b",
   "metadata": {},
   "outputs": [
    {
     "name": "stdout",
     "output_type": "stream",
     "text": [
      "Help on method_descriptor:\n",
      "\n",
      "reverse(self, /) unbound builtins.list method\n",
      "    Reverse *IN PLACE*.\n",
      "\n"
     ]
    }
   ],
   "source": [
    "# reverse()\n",
    "\n",
    "help(list.reverse)"
   ]
  },
  {
   "cell_type": "code",
   "execution_count": 46,
   "id": "083b81ec-a6ce-42d6-bb27-d267df6a5133",
   "metadata": {},
   "outputs": [
    {
     "data": {
      "text/plain": [
       "[6, 5, 4, 3, 2, 1]"
      ]
     },
     "execution_count": 46,
     "metadata": {},
     "output_type": "execute_result"
    }
   ],
   "source": [
    "b=[1,2,3,4,5,6]\n",
    "b.reverse()\n",
    "b"
   ]
  },
  {
   "cell_type": "code",
   "execution_count": 47,
   "id": "597cdd40-b773-4fd5-8878-0333e3eff3db",
   "metadata": {},
   "outputs": [
    {
     "name": "stdout",
     "output_type": "stream",
     "text": [
      "Help on method_descriptor:\n",
      "\n",
      "sort(self, /, *, key=None, reverse=False) unbound builtins.list method\n",
      "    Sort the list in ascending order and return None.\n",
      "\n",
      "    The sort is in-place (i.e. the list itself is modified) and stable (i.e. the\n",
      "    order of two equal elements is maintained).\n",
      "\n",
      "    If a key function is given, apply it once to each list item and sort them,\n",
      "    ascending or descending, according to their function values.\n",
      "\n",
      "    The reverse flag can be set to sort in descending order.\n",
      "\n"
     ]
    }
   ],
   "source": [
    "# sort()\n",
    "\n",
    "help(list.sort)"
   ]
  },
  {
   "cell_type": "code",
   "execution_count": 50,
   "id": "a59a5728-26f1-4f78-aebc-e778212cfeca",
   "metadata": {},
   "outputs": [
    {
     "data": {
      "text/plain": [
       "[1, 2, 3, 6, 7, 9]"
      ]
     },
     "execution_count": 50,
     "metadata": {},
     "output_type": "execute_result"
    }
   ],
   "source": [
    "a=[3,2,1,6,7,9]\n",
    "a.sort()   # ascending order\n",
    "a"
   ]
  },
  {
   "cell_type": "code",
   "execution_count": 51,
   "id": "7bd81e54-0574-4910-87db-16bc356a8d7e",
   "metadata": {},
   "outputs": [
    {
     "data": {
      "text/plain": [
       "[9, 7, 6, 3, 2, 1]"
      ]
     },
     "execution_count": 51,
     "metadata": {},
     "output_type": "execute_result"
    }
   ],
   "source": [
    "a.sort(reverse=True)   # descending order\n",
    "a"
   ]
  },
  {
   "cell_type": "markdown",
   "id": "21895a33-8efc-4cef-84d8-0cac552c8176",
   "metadata": {},
   "source": [
    "### Tuple Datatype\n",
    "* A tuple is a collection of Python objects that cannot be changed. The order of the objects in a tuple is preserved, and tuples can contain any type of object, including other tuples.\n",
    "* Tuples are created using `parentheses`, and the elements of a tuple are separated by commas.\n",
    "* Once a tuple is created, its elements cannot be changed\n"
   ]
  },
  {
   "cell_type": "code",
   "execution_count": 53,
   "id": "3989aa7c-aca5-450e-803a-0062ca83fe28",
   "metadata": {},
   "outputs": [
    {
     "data": {
      "text/plain": [
       "['__add__',\n",
       " '__class__',\n",
       " '__class_getitem__',\n",
       " '__contains__',\n",
       " '__delattr__',\n",
       " '__dir__',\n",
       " '__doc__',\n",
       " '__eq__',\n",
       " '__format__',\n",
       " '__ge__',\n",
       " '__getattribute__',\n",
       " '__getitem__',\n",
       " '__getnewargs__',\n",
       " '__getstate__',\n",
       " '__gt__',\n",
       " '__hash__',\n",
       " '__init__',\n",
       " '__init_subclass__',\n",
       " '__iter__',\n",
       " '__le__',\n",
       " '__len__',\n",
       " '__lt__',\n",
       " '__mul__',\n",
       " '__ne__',\n",
       " '__new__',\n",
       " '__reduce__',\n",
       " '__reduce_ex__',\n",
       " '__repr__',\n",
       " '__rmul__',\n",
       " '__setattr__',\n",
       " '__sizeof__',\n",
       " '__str__',\n",
       " '__subclasshook__',\n",
       " 'count',\n",
       " 'index']"
      ]
     },
     "execution_count": 53,
     "metadata": {},
     "output_type": "execute_result"
    }
   ],
   "source": [
    "dir(tuple)"
   ]
  },
  {
   "cell_type": "markdown",
   "id": "6d8898c5-bf86-48d3-8d02-75640b8d914e",
   "metadata": {},
   "source": [
    "#### Creating tuple"
   ]
  },
  {
   "cell_type": "code",
   "execution_count": 55,
   "id": "5908cca8-37eb-4b8e-9e02-91268d9dde05",
   "metadata": {},
   "outputs": [
    {
     "name": "stdout",
     "output_type": "stream",
     "text": [
      "(3, 4, 5, 6, 7.9, 'abc')\n",
      "(3, 4, 5, 6, 7.9, 'abc')\n"
     ]
    }
   ],
   "source": [
    "x=(3,4,5,6,7.9,\"abc\")\n",
    "print(x)\n",
    "\n",
    "y=tuple((3,4,5,6,7.9,\"abc\"))\n",
    "print(y)"
   ]
  },
  {
   "cell_type": "code",
   "execution_count": 54,
   "id": "ecbdcd48-c4be-4e4a-9b30-5e7b4e43259f",
   "metadata": {},
   "outputs": [
    {
     "name": "stdout",
     "output_type": "stream",
     "text": [
      "Help on method_descriptor:\n",
      "\n",
      "count(self, value, /) unbound builtins.tuple method\n",
      "    Return number of occurrences of value.\n",
      "\n"
     ]
    }
   ],
   "source": [
    "# count()\n",
    "\n",
    "help(tuple.count)"
   ]
  },
  {
   "cell_type": "code",
   "execution_count": 58,
   "id": "f994435a-47a0-4b6c-b71e-0254312cd49b",
   "metadata": {},
   "outputs": [
    {
     "data": {
      "text/plain": [
       "2"
      ]
     },
     "execution_count": 58,
     "metadata": {},
     "output_type": "execute_result"
    }
   ],
   "source": [
    "x=(1,2,5,7,2,5)\n",
    "x.count(5)"
   ]
  },
  {
   "cell_type": "code",
   "execution_count": 59,
   "id": "2433c0c1-b89b-4baa-a3da-5c1fa58864a1",
   "metadata": {},
   "outputs": [
    {
     "name": "stdout",
     "output_type": "stream",
     "text": [
      "Help on method_descriptor:\n",
      "\n",
      "index(self, value, start=0, stop=9223372036854775807, /) unbound builtins.tuple method\n",
      "    Return first index of value.\n",
      "\n",
      "    Raises ValueError if the value is not present.\n",
      "\n"
     ]
    }
   ],
   "source": [
    "# index()\n",
    "help(tuple.index)\n"
   ]
  },
  {
   "cell_type": "code",
   "execution_count": 60,
   "id": "d0ebbfb9-298b-4afe-825d-6602b916215f",
   "metadata": {},
   "outputs": [
    {
     "name": "stdout",
     "output_type": "stream",
     "text": [
      "1\n",
      "5\n"
     ]
    }
   ],
   "source": [
    "y=(2,3,4,5,6,(7,8))\n",
    "\n",
    "print(y.index(3))\n",
    "\n",
    "print(y.index((7,8)))"
   ]
  },
  {
   "cell_type": "code",
   "execution_count": null,
   "id": "4ea922d0-8e06-4c48-92c3-8432521bd246",
   "metadata": {},
   "outputs": [],
   "source": []
  }
 ],
 "metadata": {
  "kernelspec": {
   "display_name": "Python 3 (ipykernel)",
   "language": "python",
   "name": "python3"
  },
  "language_info": {
   "codemirror_mode": {
    "name": "ipython",
    "version": 3
   },
   "file_extension": ".py",
   "mimetype": "text/x-python",
   "name": "python",
   "nbconvert_exporter": "python",
   "pygments_lexer": "ipython3",
   "version": "3.13.5"
  }
 },
 "nbformat": 4,
 "nbformat_minor": 5
}
